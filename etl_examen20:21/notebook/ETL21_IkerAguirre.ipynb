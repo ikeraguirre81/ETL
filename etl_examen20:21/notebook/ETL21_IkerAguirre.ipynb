{
  "nbformat": 4,
  "nbformat_minor": 0,
  "metadata": {
    "colab": {
      "name": "ETL21_IkerAguirre.ipynb",
      "provenance": [],
      "collapsed_sections": []
    },
    "kernelspec": {
      "name": "python3",
      "display_name": "Python 3"
    }
  },
  "cells": [
    {
      "cell_type": "markdown",
      "metadata": {
        "id": "NPq4G5tuurDO"
      },
      "source": [
        "# TAREA FINAL: Datos de vivienda\n",
        "### Iker Aguirre Otaegui\n",
        "\n",
        "<p> El negocio inmobiliario es uno de los motores de la economía de España, el carácter turístico de nuesta península hace que sean muchos los inversores extranjeros que se decidan por buscar una inversión de bajo riesgos en nuestras ciudades costeras o grandes urbes. \n",
        "Muchas de estas inversiones se hacen sobre grandes bolsas de inmuebles que deben ser analizados previamente para comprobar la rentabilidad del porfolio </p>\n",
        "\n",
        "<!-- <p> En este caso vamos a trabajar con una tabla que contienen información de distintos inmuebles repart"
      ]
    },
    {
      "cell_type": "markdown",
      "metadata": {
        "id": "-wM5DW5vurT-"
      },
      "source": [
        "Todas las cuestiones se deben realizar sobre el conjunto de casos que representen viviendas ubicadas en zonas residenciales **(alta, media y baja densidad)**"
      ]
    },
    {
      "cell_type": "markdown",
      "metadata": {
        "id": "gw49XTd8vCqF"
      },
      "source": [
        "**MUY IMPORTANTE:** En las otras prácticas he detectado colaboraciones involucrando varias personas y he sido flexible aunque a algunos os lo he mencionado en las correcciones, porque al final el trabajo de analista de datos es un trabajo colaborativo. Sin embargo, este trabajo es individual, así que cuidado con las colaboraciones."
      ]
    },
    {
      "cell_type": "markdown",
      "metadata": {
        "id": "uJ1pwfclvCwC"
      },
      "source": [
        "Las variables de las que se compone el dataset son:"
      ]
    },
    {
      "cell_type": "markdown",
      "metadata": {
        "id": "3PZXux8hvC2H"
      },
      "source": [
        "|NOMBRE VARIABLE|DESCRIPTOR|VALORES|\n",
        "| --- | --- | --- |\n",
        "|Order|Variable de identificación|1 a 2930|\n",
        "|MS Zoning|Zona de ubicación de la vivienda|\"A rural, C comercial, FV residencial flotante, I industrial, RH residencial alta densidad, RL residencial baja densidad, RM residencial media densidad\"|\n",
        "|Lot Frontage|Longitud de la fachada en pies||\n",
        "|Lot Area|Superficie de la vivienda en pies cuadrados||\n",
        "|Land Contour|Contorno del terreno circundante|\"Lvl llano, Bnk Tipo bancal, HLS Ladera, Low Depresión\"|\n",
        "|Land Slope|Tipo de pendiente de la vivienda|\" Gtl pendiente suave, Mod pendiente moderada, Sev fuerte pendiente\"|\n",
        "|Overall Qual|Grado de calidad de materiales y acabado de la vivienda|De 1 (Muy pobre) a 10 (Excelente)|\n",
        "|Year Built|Año de construccion de la vivienda||\n",
        "|Year Remod/Add|Año de última reforma de la vivienda||\n",
        "|Mas Vnr Type|Tipo de revestimiento exterior|\" BrkCmn Ladrillo normal, BrkFace Ladrillo visto, CBlock Bloque de cemento, None Ninguna, Stone Piedra \"|\n",
        "|Exter Qual|Calidad de revestimiento exterior|\"Ex Excelente,Gd Bueno,TA Media,Fa Justo\"|\n",
        "|Bsmt Cond|Estado general del sótano|\"Ex Excelente, Gd Bueno, TA Media, Fa Justo, Po Pobre,Ss sin sótano\"|\n",
        "|Total Bsmt SF|Superficie del sótano en pies cuadrados|\n",
        "|Heating QC|Calidad de la calefacción|\"Ex Excelente,Gd Bueno,TA Media,Fa Justo,Po Pobre\"|\n",
        "|Central Air|Aire acondicionado centralizado|\"N No Y Sí\"|\n",
        "|Full Bath|Número de baños completo en planta||\n",
        "|Half Bath|Número de aseos en planta||\n",
        "|Bedroom AbvGr|Número de dormitorios en planta||\n",
        "|Kitchen AbvGr|Número de cocinas en planta||\n",
        "|Kitchen Qual|Calidad de cocinas|\"Ex Excelente,Gd Bueno,TA Media,Fa Justo,Po Pobre\"|\n",
        "|TotRms AbvGrd|Número total de habitaciones excluidos los cuartos de baño||\n",
        "|Garage Cars|Número de plazas de garaje||\n",
        "|Garage Area|Superficie del garaje|||\n",
        "|Garage Cond|Estado del garaje|\"Ex Excelente,Gd Bueno,TA Media,Fa Justo,Po Pobre,Sg sin garaje\"|\n",
        "|Pool Area|Superficie de la piscina en pies cuadrados|\n",
        "|Pool QC|Calidad de la piscina|\"Ex Excelente,Gd Bueno,TA Media,Fa Justo,Sp no hay piscina\"|\n",
        "|Mo Sold|mes de venta||\n",
        "|Yr Sold|año de venta||\n",
        "|SalePrice|precio de venta en dólares||"
      ]
    },
    {
      "cell_type": "markdown",
      "metadata": {
        "id": "JGWKDhtZvV-D"
      },
      "source": [
        "Recomiendo al leer los datos, eliminar espacios de los nombres de las columnas, realiza un pequeño análisis inicial de los mismos. No olvides fijarte en los tipos de variables, que variables pueden tener tipos confundidos y corrige los. Sobre todo, trabaja con las fechas."
      ]
    },
    {
      "cell_type": "markdown",
      "metadata": {
        "id": "sLhmcz1xvXZ8"
      },
      "source": [
        "**NOTA:** Las tareas complementarias sirven para subir nota. El resto de preguntas valen igual y suman 10 puntos."
      ]
    },
    {
      "cell_type": "markdown",
      "metadata": {
        "id": "5NklPc52vGgW"
      },
      "source": [
        "## 1. Inicializar y cargar el contexto spark"
      ]
    },
    {
      "cell_type": "code",
      "metadata": {
        "id": "0rfBLCN490t9"
      },
      "source": [
        "!apt-get install openjdk-8-jdk-headless -qq > /dev/null\n",
        "!wget -q https://www-us.apache.org/dist/spark/spark-2.4.7/spark-2.4.7-bin-hadoop2.7.tgz\n",
        "!tar xf spark-2.4.7-bin-hadoop2.7.tgz #d\n",
        "!pip install -q findspark \n",
        "\n",
        "import os\n",
        "os.environ[\"SPARK_HOME\"] = \"/content/spark-2.4.7-bin-hadoop2.7\"\n",
        "\n",
        "import findspark\n",
        "findspark.init()\n",
        "\n",
        "from pyspark import SparkContext\n",
        "sc = SparkContext()\n",
        "\n",
        "from pyspark.sql import SparkSession\n",
        "spark = SparkSession.builder.master(\"local[*]\").getOrCreate()"
      ],
      "execution_count": null,
      "outputs": []
    },
    {
      "cell_type": "code",
      "metadata": {
        "id": "kNsJ63K86wy8"
      },
      "source": [
        "from pyspark.sql import SQLContext\n",
        "from pyspark.sql import Row"
      ],
      "execution_count": null,
      "outputs": []
    },
    {
      "cell_type": "code",
      "metadata": {
        "id": "l-VJJ9Wd60Ss"
      },
      "source": [
        "sqlContext = SQLContext(sc)"
      ],
      "execution_count": null,
      "outputs": []
    },
    {
      "cell_type": "code",
      "metadata": {
        "colab": {
          "base_uri": "https://localhost:8080/"
        },
        "id": "A3QVsaEtwJRU",
        "outputId": "29cf54c1-c801-445a-ff2b-3b110db44996"
      },
      "source": [
        "final_raw = sc.textFile(\"BDpracticafinalCSV.csv\")\n",
        "final_raw.take(5)"
      ],
      "execution_count": null,
      "outputs": [
        {
          "output_type": "execute_result",
          "data": {
            "text/plain": [
              "['Order;MS Zoning;Lot Frontage;Lot Area;Land Contour;Land Slope;Overall Qual;Year Built;Year Remod/Add;Mas Vnr Type;Exter Qual;Bsmt Cond;Total Bsmt SF;Heating QC;Central Air;Full Bath;Half Bath;Bedroom AbvGr;Kitchen AbvGr;Kitchen Qual;TotRms AbvGrd;Garage Cars;Garage Area;Garage Cond;Pool Area;Pool QC;Mo Sold;Yr Sold;SalePrice',\n",
              " '1;RL;141;31770;Lvl;Gtl;6;1960;1960;Stone;TA;Gd;1080;Fa;Y;1;0;3;1;TA;7;2;528;TA;0;Sp;5;2010;215000',\n",
              " '2;RH;80;11622;Lvl;Gtl;5;1961;1961;None;TA;TA;882;TA;Y;1;0;2;1;TA;5;1;730;TA;0;Sp;6;2010;105000',\n",
              " '3;RL;81;14267;Lvl;Gtl;6;1958;1958;BrkFace;TA;TA;1329;TA;Y;1;1;3;1;Gd;6;1;312;TA;0;Sp;6;2010;172000',\n",
              " '4;RL;93;11160;Lvl;Gtl;7;1968;1968;None;Gd;TA;2110;Ex;Y;2;1;3;1;Ex;8;2;522;TA;0;Sp;4;2010;244000']"
            ]
          },
          "metadata": {
            "tags": []
          },
          "execution_count": 4
        }
      ]
    },
    {
      "cell_type": "markdown",
      "metadata": {
        "id": "TYl2Bgs0CynB"
      },
      "source": [
        "Parseamos los datos. Por una parte, los datos estáns eparados por \";\". Por otra, hay que tener en cuenta que el header está en la primera fila. Es por ello que lo eliminamos y metemos los titulos a mano (Puesto que no son tantas variables), aprovechando también para deshacernos de los espacios en blanco."
      ]
    },
    {
      "cell_type": "code",
      "metadata": {
        "id": "Dz4JWCHa7CiW"
      },
      "source": [
        "final_raw = final_raw.map(lambda x:x.split(\";\"))\n",
        "header = final_raw.first()\n",
        "final_raw = final_raw.filter(lambda x : x != header)"
      ],
      "execution_count": null,
      "outputs": []
    },
    {
      "cell_type": "code",
      "metadata": {
        "id": "ptLImE_-7Coz"
      },
      "source": [
        "final_raw2 = final_raw.map(lambda p: Row(\n",
        "    Order = p[0],\n",
        "    MS_Zoning = p[1],\n",
        "    Lot_Frontage = p[2],\n",
        "    Lot_Area = p[3],\n",
        "    Land_Contour = p[4],\n",
        "    Land_Slope = p[5],\n",
        "    Overall_Qual = p[6],\n",
        "    Year_Built = p[7],\n",
        "    Year_R_A = p[8],\n",
        "    Mas_Vnr_Type = p[9],\n",
        "    Exter_Qual = p[10],\n",
        "    Bsmt_Cond = p[11],\n",
        "    Total_Bsmt_SF = p[12],\n",
        "    Heating_QC = p[13],\n",
        "    Central_Air = p[14],\n",
        "    Full_Bath = p[15],\n",
        "    Half_Bath = p[16],\n",
        "    Bedroom_AbvGr = p[17],\n",
        "    Kitchen_AbvGr = p[18],\n",
        "    Kitchen_Qual = p[19],\n",
        "    TotRms_AbvGrd = p[20],\n",
        "    Garage_Cars = p[21],\n",
        "    Garage_Area = p[22],\n",
        "    Garage_Cond = p[23],\n",
        "    Pool_Area = p[24],\n",
        "    Pool_QC = p[25],\n",
        "    Mo_Sold = p[26],\n",
        "    Yr_Sold = p[27],\n",
        "    SalePrice = p[28]\n",
        "    )\n",
        ")"
      ],
      "execution_count": null,
      "outputs": []
    },
    {
      "cell_type": "markdown",
      "metadata": {
        "id": "RBzgxv66DJGC"
      },
      "source": [
        "Pasarmos a df para operar con pyspark.sql, puesto que me resulta más cómodo."
      ]
    },
    {
      "cell_type": "code",
      "metadata": {
        "id": "BrRJqG4H7CuJ"
      },
      "source": [
        "final = sqlContext.createDataFrame(final_raw2)\n",
        "final.registerTempTable(\"final\")"
      ],
      "execution_count": null,
      "outputs": []
    },
    {
      "cell_type": "code",
      "metadata": {
        "colab": {
          "base_uri": "https://localhost:8080/"
        },
        "id": "s8hmhacc7Cwx",
        "outputId": "c57a5ea4-4ea2-413c-a4c3-780972ca8c41"
      },
      "source": [
        "sqlContext.sql(\"\"\"\n",
        "    SELECT * \n",
        "    FROM final limit 10\n",
        "\"\"\").show()"
      ],
      "execution_count": null,
      "outputs": [
        {
          "output_type": "stream",
          "text": [
            "+-------------+---------+-----------+----------+---------+-----------+-----------+-----------+---------+----------+-------------+------------+------------+----------+--------+------------+---------+------------+-------+-----+------------+---------+-------+---------+-------------+-------------+----------+--------+-------+\n",
            "|Bedroom_AbvGr|Bsmt_Cond|Central_Air|Exter_Qual|Full_Bath|Garage_Area|Garage_Cars|Garage_Cond|Half_Bath|Heating_QC|Kitchen_AbvGr|Kitchen_Qual|Land_Contour|Land_Slope|Lot_Area|Lot_Frontage|MS_Zoning|Mas_Vnr_Type|Mo_Sold|Order|Overall_Qual|Pool_Area|Pool_QC|SalePrice|TotRms_AbvGrd|Total_Bsmt_SF|Year_Built|Year_R_A|Yr_Sold|\n",
            "+-------------+---------+-----------+----------+---------+-----------+-----------+-----------+---------+----------+-------------+------------+------------+----------+--------+------------+---------+------------+-------+-----+------------+---------+-------+---------+-------------+-------------+----------+--------+-------+\n",
            "|            3|       Gd|          Y|        TA|        1|        528|          2|         TA|        0|        Fa|            1|          TA|         Lvl|       Gtl|   31770|         141|       RL|       Stone|      5|    1|           6|        0|     Sp|   215000|            7|         1080|      1960|    1960|   2010|\n",
            "|            2|       TA|          Y|        TA|        1|        730|          1|         TA|        0|        TA|            1|          TA|         Lvl|       Gtl|   11622|          80|       RH|        None|      6|    2|           5|        0|     Sp|   105000|            5|          882|      1961|    1961|   2010|\n",
            "|            3|       TA|          Y|        TA|        1|        312|          1|         TA|        1|        TA|            1|          Gd|         Lvl|       Gtl|   14267|          81|       RL|     BrkFace|      6|    3|           6|        0|     Sp|   172000|            6|         1329|      1958|    1958|   2010|\n",
            "|            3|       TA|          Y|        Gd|        2|        522|          2|         TA|        1|        Ex|            1|          Ex|         Lvl|       Gtl|   11160|          93|       RL|        None|      4|    4|           7|        0|     Sp|   244000|            8|         2110|      1968|    1968|   2010|\n",
            "|            3|       TA|          Y|        TA|        2|        482|          2|         TA|        1|        Gd|            1|          TA|         Lvl|       Gtl|   13830|          74|       RL|        None|      3|    5|           5|        0|     Sp|   189900|            6|          928|      1997|    1998|   2010|\n",
            "|            3|       TA|          Y|        TA|        2|        470|          2|         TA|        1|        Ex|            1|          Gd|         Lvl|       Gtl|    9978|          78|       RL|     BrkFace|      6|    6|           6|        0|     Sp|   195500|            7|          926|      1998|    1998|   2010|\n",
            "|            2|       TA|          Y|        Gd|        2|        582|          2|         TA|        0|        Ex|            1|          Gd|         Lvl|       Gtl|    4920|          41|       RL|        None|      4|    7|           8|        0|     Sp|   213500|            6|         1338|      2001|    2001|   2010|\n",
            "|            2|       TA|          Y|        Gd|        2|        506|          2|         TA|        0|        Ex|            1|          Gd|         HLS|       Gtl|    5005|          43|       RL|        None|      1|    8|           8|        0|     Sp|   191500|            5|         1280|      1992|    1992|   2010|\n",
            "|            2|       TA|          Y|        Gd|        2|        608|          2|         TA|        0|        Ex|            1|          Gd|         Lvl|       Gtl|    5389|          39|       RL|        None|      3|    9|           8|        0|     Sp|   236500|            5|         1595|      1995|    1996|   2010|\n",
            "|            3|       TA|          Y|        TA|        2|        442|          2|         TA|        1|        Gd|            1|          Gd|         Lvl|       Gtl|    7500|          60|       RL|        None|      6|   10|           7|        0|     Sp|   189000|            7|          994|      1999|    1999|   2010|\n",
            "+-------------+---------+-----------+----------+---------+-----------+-----------+-----------+---------+----------+-------------+------------+------------+----------+--------+------------+---------+------------+-------+-----+------------+---------+-------+---------+-------------+-------------+----------+--------+-------+\n",
            "\n"
          ],
          "name": "stdout"
        }
      ]
    },
    {
      "cell_type": "markdown",
      "metadata": {
        "id": "OdB9xcc_DdHK"
      },
      "source": [
        "Como se puede apreciar, los datos se han cargado perfectmente."
      ]
    },
    {
      "cell_type": "markdown",
      "metadata": {
        "id": "ZJ3PNUCCvSBm"
      },
      "source": [
        "## 2. Cuántas viviendas distintas encontramos en el dataset? ¿Se repite alguna? Tiene sentido que haya duplicadas? ¿Qué podemos hacer con las duplicadas?"
      ]
    },
    {
      "cell_type": "markdown",
      "metadata": {
        "id": "QBFhfnFpD5Fy"
      },
      "source": [
        "Vamos a ver cuantas viviendas podrían estar \"duplicadas\", viendo como se repiten los números de identificación. Representamos esos posibles duplicados."
      ]
    },
    {
      "cell_type": "code",
      "metadata": {
        "id": "92p2Bs-cvRgY",
        "colab": {
          "base_uri": "https://localhost:8080/"
        },
        "outputId": "ed34fb47-2dbd-4862-cbc9-de8aef4a26b4"
      },
      "source": [
        "sqlContext.sql(\"\"\"\n",
        "select order, count(*) as num_repeticiones \n",
        "from final\n",
        "group by order\n",
        "having count(*)>1\n",
        "\"\"\").show()"
      ],
      "execution_count": null,
      "outputs": [
        {
          "output_type": "stream",
          "text": [
            "+-----+----------------+\n",
            "|order|num_repeticiones|\n",
            "+-----+----------------+\n",
            "| 2898|               2|\n",
            "| 2930|               2|\n",
            "| 2929|               2|\n",
            "| 2900|               2|\n",
            "| 2899|               2|\n",
            "| 2901|               2|\n",
            "+-----+----------------+\n",
            "\n"
          ],
          "name": "stdout"
        }
      ]
    },
    {
      "cell_type": "code",
      "metadata": {
        "colab": {
          "base_uri": "https://localhost:8080/"
        },
        "id": "QX1yuocVACJl",
        "outputId": "7f99f380-ec0c-4950-cdd4-07d56815e68d"
      },
      "source": [
        "sqlContext.sql(\"\"\"\n",
        "select *\n",
        "from final\n",
        "where order = '2898' or order = '2930' or order = '2929' or order = '2900'\n",
        "or order = '2899' or order = '2901'\n",
        "order by order\n",
        "\"\"\").show(12)"
      ],
      "execution_count": null,
      "outputs": [
        {
          "output_type": "stream",
          "text": [
            "+-------------+---------+-----------+----------+---------+-----------+-----------+-----------+---------+----------+-------------+------------+------------+----------+--------+------------+---------+------------+-------+-----+------------+---------+-------+---------+-------------+-------------+----------+--------+-------+\n",
            "|Bedroom_AbvGr|Bsmt_Cond|Central_Air|Exter_Qual|Full_Bath|Garage_Area|Garage_Cars|Garage_Cond|Half_Bath|Heating_QC|Kitchen_AbvGr|Kitchen_Qual|Land_Contour|Land_Slope|Lot_Area|Lot_Frontage|MS_Zoning|Mas_Vnr_Type|Mo_Sold|Order|Overall_Qual|Pool_Area|Pool_QC|SalePrice|TotRms_AbvGrd|Total_Bsmt_SF|Year_Built|Year_R_A|Yr_Sold|\n",
            "+-------------+---------+-----------+----------+---------+-----------+-----------+-----------+---------+----------+-------------+------------+------------+----------+--------+------------+---------+------------+-------+-----+------------+---------+-------+---------+-------------+-------------+----------+--------+-------+\n",
            "|            4|       TA|          Y|        TA|        2|        693|          2|         TA|        1|        Ex|            1|          TA|         Lvl|       Gtl|   11170|            |       Rl|        None|      4| 2898|           7|        0|     Sp|   250000|            8|         1216|      1990|    1991|   2006|\n",
            "|            4|       TA|          Y|        TA|        2|        693|          2|         TA|        1|        Ex|            1|          TA|         Lvl|       Gtl|   11170|            |       Rl|        None|      4| 2898|           7|        0|     Sp|   250000|            8|         1216|      1990|    1991|   2006|\n",
            "|            2|       TA|          Y|        Gd|        2|        470|          2|         TA|        0|        Ex|            1|          Gd|         Lvl|       Gtl|    8098|            |       Rl|        None|     10| 2899|           6|        0|     Sp|   202000|            5|         1381|      2000|    2000|   2006|\n",
            "|            2|       TA|          Y|        Gd|        2|        470|          2|         TA|        0|        Ex|            1|          Gd|         Lvl|       Gtl|    8098|            |       Rl|        None|     10| 2899|           6|        0|     Sp|   202000|            5|         1381|      2000|    2000|   2006|\n",
            "|            3|       TA|          Y|        Gd|        2|        765|          3|         TA|        0|        Ex|            1|          Gd|         Lvl|       Gtl|   14331|          85|       Rl|     BrkFace|      5| 2900|           8|        0|     Sp|   312500|            7|         1800|      2002|    2002|   2006|\n",
            "|            3|       TA|          Y|        Gd|        2|        765|          3|         TA|        0|        Ex|            1|          Gd|         Lvl|       Gtl|   14331|          85|       Rl|     BrkFace|      5| 2900|           8|        0|     Sp|   312500|            7|         1800|      2002|    2002|   2006|\n",
            "|            3|       Gd|          Y|        Gd|        2|        714|          3|         TA|        0|        Ex|            1|          Gd|         Lvl|       Gtl|   13618|          95|       rL|       Stone|     11| 2901|           8|        0|     Sp|   320000|            8|         1728|      2005|    2006|   2006|\n",
            "|            3|       Gd|          Y|        Gd|        2|        714|          3|         TA|        0|        Ex|            1|          Gd|         Lvl|       Gtl|   13618|          95|       rL|       Stone|     11| 2901|           8|        0|     Sp|   320000|            8|         1728|      2005|    2006|   2006|\n",
            "|            2|       TA|          Y|        TA|        1|        418|          2|         TA|        0|        Gd|            1|          TA|         Lvl|       Mod|   10010|          77|       RL|        None|      4| 2929|           5|        0|     Sp|   170000|            6|         1389|      1974|    1975|   2006|\n",
            "|            2|       TA|          Y|        TA|        1|        418|          2|         TA|        0|        Gd|            1|          TA|         Lvl|       Mod|   10010|          77|       RL|        None|      4| 2929|           5|        0|     Sp|   170000|            6|         1389|      1974|    1975|   2006|\n",
            "|            3|       TA|          Y|        TA|        2|        650|          3|         TA|        1|        Ex|            1|          TA|         Lvl|       Mod|    9627|          74|       RL|     BrkFace|     11| 2930|           7|        0|     Sp|   188000|            9|          996|      1993|    1994|   2006|\n",
            "|            3|       TA|          Y|        TA|        2|        650|          3|         TA|        1|        Ex|            1|          TA|         Lvl|       Mod|    9627|          74|       RL|     BrkFace|     11| 2930|           7|        0|     Sp|   188000|            9|          996|      1993|    1994|   2006|\n",
            "+-------------+---------+-----------+----------+---------+-----------+-----------+-----------+---------+----------+-------------+------------+------------+----------+--------+------------+---------+------------+-------+-----+------------+---------+-------+---------+-------------+-------------+----------+--------+-------+\n",
            "\n"
          ],
          "name": "stdout"
        }
      ]
    },
    {
      "cell_type": "markdown",
      "metadata": {
        "id": "7nWeWL2sEjeu"
      },
      "source": [
        "Así a priori podemos ver que los duplicados son prácticamente identicos. El eliminar o mantener estos duplicados dependen del sentido que le demos a la variable \"Order\".\n",
        "\n",
        "Si se tratase de un código individual de identificación para cada vivienda, lo suyo sería borrarlo, puesto que supondría que se ha introducido el mismo registro dos veces en el sistema. \n",
        "\n",
        "Sin embargo, cabe mencionar que podría hacer referencia a lotes de viviendas. Es decir, cada identificador serviría para identificar, valga la redundancia, el bloque o urbanización al que un conjunto de viviendas pertenecen. Siendo algo común en este sector de actividad, explicaría las características y precios idénticos.\n",
        "\n",
        "Por ello, voy a considerar que estaríamos ante este segundo supuesto, y es por ello que no voy a borrar los duplicados."
      ]
    },
    {
      "cell_type": "markdown",
      "metadata": {
        "id": "cae-zumUUQte"
      },
      "source": [
        "## 3. ¿Podrías decirme el total de inmuebles y el precio medio (Sale Price) de cada zona (MS Zoning)?"
      ]
    },
    {
      "cell_type": "markdown",
      "metadata": {
        "id": "z98agUJDwfSr"
      },
      "source": [
        "Agrupo los datos por zonas y calculo, para cada una, tanto el total de inmuebles en venta como el precio medio del total de estos."
      ]
    },
    {
      "cell_type": "code",
      "metadata": {
        "colab": {
          "base_uri": "https://localhost:8080/"
        },
        "id": "YEvbVoobUP9Z",
        "outputId": "b5d3e08c-2554-4356-c053-9191060f5178"
      },
      "source": [
        "sqlContext.sql(\"\"\"\n",
        "select MS_Zoning as Zona, count(Order) as Inmuebles, avg(SalePrice) as PrecioMedio\n",
        "from final\n",
        "where MS_Zoning = 'RH' or MS_Zoning = 'RL' or MS_Zoning = 'RM'\n",
        "group by MS_Zoning\n",
        "\"\"\").show()"
      ],
      "execution_count": null,
      "outputs": [
        {
          "output_type": "stream",
          "text": [
            "+----+---------+------------------+\n",
            "|Zona|Inmuebles|       PrecioMedio|\n",
            "+----+---------+------------------+\n",
            "|  RH|       27|136419.77777777778|\n",
            "|  RL|     2271|191131.80581241744|\n",
            "|  RM|      462|126781.39393939394|\n",
            "+----+---------+------------------+\n",
            "\n"
          ],
          "name": "stdout"
        }
      ]
    },
    {
      "cell_type": "markdown",
      "metadata": {
        "id": "covtsmSEvcGQ"
      },
      "source": [
        "## 4. Media de Total Bsmt SF por cada década de construcción calculada a partir de Year Built. \n",
        "## ¿Cuál es la decada de construcción con viviendas mejor acondicionadas para el frío (Heating QC)?"
      ]
    },
    {
      "cell_type": "markdown",
      "metadata": {
        "id": "DOzPQF-_xFHe"
      },
      "source": [
        "En primer lugar vamos a ver cuáles son los años de construcción más antiguo y reciente, para así saber cuántas décadas tenemos que agrupar."
      ]
    },
    {
      "cell_type": "code",
      "metadata": {
        "colab": {
          "base_uri": "https://localhost:8080/"
        },
        "id": "sLWKpPjvyN2T",
        "outputId": "ad332e74-5972-40f1-faee-07a4bc923805"
      },
      "source": [
        "sqlContext.sql(\"\"\"\n",
        "select min(Year_Built), max(Year_Built)\n",
        "from final\n",
        "where MS_Zoning = 'RH' or MS_Zoning = 'RL' or MS_Zoning = 'RM'\n",
        "\"\"\").show(20)"
      ],
      "execution_count": null,
      "outputs": [
        {
          "output_type": "stream",
          "text": [
            "+---------------+---------------+\n",
            "|min(Year_Built)|max(Year_Built)|\n",
            "+---------------+---------------+\n",
            "|           1872|           2010|\n",
            "+---------------+---------------+\n",
            "\n"
          ],
          "name": "stdout"
        }
      ]
    },
    {
      "cell_type": "markdown",
      "metadata": {
        "id": "SlrusSBtxOf8"
      },
      "source": [
        "Como podemos apreciar, el rango de antiguedad abarca desde 1872 hasta 2010. Por ello, utilizaremos décadas desde los 1870s hasta los 2000s."
      ]
    },
    {
      "cell_type": "markdown",
      "metadata": {
        "id": "1WBBS4bzxhBz"
      },
      "source": [
        "Calculámos la superficie media de los sótanos construidos en cada década. Los ordenamos por década, de más remota a más actual."
      ]
    },
    {
      "cell_type": "code",
      "metadata": {
        "colab": {
          "base_uri": "https://localhost:8080/"
        },
        "id": "DVKjyswfUQBb",
        "outputId": "fb67490a-b2ac-457c-fa20-d9619ed5610e"
      },
      "source": [
        "sqlContext.sql(\"\"\"\n",
        "select avg(Total_Bsmt_SF) as Superficie_Media,\n",
        "case \n",
        "when Year_Built between 1870 and 1879 then '1870s' \n",
        "when Year_Built between 1880 and 1889 then '1880s' \n",
        "when Year_Built between 1890 and 1899 then '1890s' \n",
        "when Year_Built between 1900 and 1909 then '1900s' \n",
        "when Year_Built between 1910 and 1919 then '1910s' \n",
        "when Year_Built between 1920 and 1929 then '1920s' \n",
        "when Year_Built between 1930 and 1939 then '1930s' \n",
        "when Year_Built between 1940 and 1949 then '1940s' \n",
        "when Year_Built between 1950 and 1959 then '1950s'\n",
        "when Year_Built between 1960 and 1969 then '1960s' \n",
        "when Year_Built between 1970 and 1979 then '1970s' \n",
        "when Year_Built between 1980 and 1989 then '1980s' \n",
        "when Year_Built between 1990 and 1999 then '1990s' \n",
        "else '2000s' \n",
        "end as Decada\n",
        "from final\n",
        "where MS_Zoning = 'RH' or MS_Zoning = 'RL' or MS_Zoning = 'RM'\n",
        "group by Decada\n",
        "order by Superficie_Media desc\n",
        "\"\"\").show()"
      ],
      "execution_count": null,
      "outputs": [
        {
          "output_type": "stream",
          "text": [
            "+------------------+------+\n",
            "|  Superficie_Media|Decada|\n",
            "+------------------+------+\n",
            "|1347.7401812688822| 2000s|\n",
            "|1138.1054313099041| 1990s|\n",
            "|            1086.0| 1980s|\n",
            "| 1082.672268907563| 1960s|\n",
            "| 968.2955223880597| 1950s|\n",
            "|  953.917808219178| 1970s|\n",
            "| 885.5833333333334| 1890s|\n",
            "|             836.0| 1880s|\n",
            "| 833.9368421052632| 1920s|\n",
            "| 788.3009708737864| 1910s|\n",
            "| 769.9158878504672| 1930s|\n",
            "|             761.0| 1870s|\n",
            "| 720.1388888888889| 1900s|\n",
            "| 706.9261744966443| 1940s|\n",
            "+------------------+------+\n",
            "\n"
          ],
          "name": "stdout"
        }
      ]
    },
    {
      "cell_type": "markdown",
      "metadata": {
        "id": "lhCnoDavyKnE"
      },
      "source": [
        "Ahora hacemos un recuento de viviendas mejor acondicionadas en cada decada. Nos basaremos en aquellas que tengan una calificación Excelente o 'Ex'. Puesto que nos interesa saber cuál es la de mejor calificación, ordenamos los datos en sentido descendente, eligiendo el primero."
      ]
    },
    {
      "cell_type": "code",
      "metadata": {
        "colab": {
          "base_uri": "https://localhost:8080/"
        },
        "id": "0SEOuw8HSvaQ",
        "outputId": "17f89132-19dd-4e28-f097-716b4b013f85"
      },
      "source": [
        "sqlContext.sql(\"\"\"\n",
        "select count(*) as Recuento,\n",
        "case \n",
        "when Year_Built between 1870 and 1879 then '1870s' \n",
        "when Year_Built between 1880 and 1889 then '1880s' \n",
        "when Year_Built between 1890 and 1899 then '1890s' \n",
        "when Year_Built between 1900 and 1909 then '1900s' \n",
        "when Year_Built between 1910 and 1919 then '1910s' \n",
        "when Year_Built between 1920 and 1929 then '1920s' \n",
        "when Year_Built between 1930 and 1939 then '1930s' \n",
        "when Year_Built between 1940 and 1949 then '1940s' \n",
        "when Year_Built between 1950 and 1959 then '1950s'\n",
        "when Year_Built between 1960 and 1969 then '1960s' \n",
        "when Year_Built between 1970 and 1979 then '1970s' \n",
        "when Year_Built between 1980 and 1989 then '1980s' \n",
        "when Year_Built between 1990 and 1999 then '1990s' \n",
        "else '2000s' \n",
        "end as Decada\n",
        "from final \n",
        "where Heating_QC = 'Ex' and (MS_Zoning = 'RH' or MS_Zoning = 'RL' or MS_Zoning = 'RM')\n",
        "group by Decada\n",
        "order by Recuento desc\n",
        "\"\"\").show()"
      ],
      "execution_count": null,
      "outputs": [
        {
          "output_type": "stream",
          "text": [
            "+--------+------+\n",
            "|Recuento|Decada|\n",
            "+--------+------+\n",
            "|     637| 2000s|\n",
            "|     233| 1990s|\n",
            "|      98| 1950s|\n",
            "|      88| 1960s|\n",
            "|      68| 1970s|\n",
            "|      56| 1940s|\n",
            "|      51| 1920s|\n",
            "|      40| 1930s|\n",
            "|      38| 1910s|\n",
            "|      28| 1980s|\n",
            "|      12| 1900s|\n",
            "|       4| 1890s|\n",
            "|       2| 1880s|\n",
            "+--------+------+\n",
            "\n"
          ],
          "name": "stdout"
        }
      ]
    },
    {
      "cell_type": "markdown",
      "metadata": {
        "id": "PJIT4WFcyoUa"
      },
      "source": [
        "Como se puede apreciar, la década de los 2000 es la que tiene más viviendas de mejor calidad, llegando a casi duplicar a la segunda (los 90)."
      ]
    },
    {
      "cell_type": "markdown",
      "metadata": {
        "id": "RXnVOFub-JKW"
      },
      "source": [
        "### 5. ¿Cuáles son las 10 viviendas que se vendieron por un precio más elevado por metro cuadrado en el año 2009?"
      ]
    },
    {
      "cell_type": "markdown",
      "metadata": {
        "id": "_2N1uXU28eW4"
      },
      "source": [
        "Seleccionamos cada vivienda con su ratio precio/superficie, y lo ordenamos de mayor a menor, seleccionando las 10 primeras. Hay que convertir de pies a metros cuadrado."
      ]
    },
    {
      "cell_type": "code",
      "metadata": {
        "id": "mUZu6Z25SYca"
      },
      "source": [
        "caras_2009 = sqlContext.sql(\"\"\"\n",
        "select Order as Casa, (SalePrice/(Lot_Area/3.2808)) as Pm2\n",
        "from final \n",
        "where Yr_Sold = '2009' and (MS_Zoning = 'RH' or MS_Zoning = 'RL' or MS_Zoning = 'RM')\n",
        "order by Pm2 desc\n",
        "\"\"\")"
      ],
      "execution_count": null,
      "outputs": []
    },
    {
      "cell_type": "code",
      "metadata": {
        "colab": {
          "base_uri": "https://localhost:8080/"
        },
        "id": "_BRXWhRUT2bM",
        "outputId": "b20ff834-585a-4675-be39-32217df044bc"
      },
      "source": [
        "caras_2009.show(10)"
      ],
      "execution_count": null,
      "outputs": [
        {
          "output_type": "stream",
          "text": [
            "+----+------------------+\n",
            "|Casa|               Pm2|\n",
            "+----+------------------+\n",
            "| 936| 312.9378461538462|\n",
            "| 934|302.06290322580645|\n",
            "| 464|250.25502645502647|\n",
            "| 935|  246.263523573201|\n",
            "| 408| 233.3664285714286|\n",
            "| 407|230.43714285714287|\n",
            "| 405|218.72000000000003|\n",
            "| 933|217.71032890940566|\n",
            "| 403| 216.7671428571429|\n",
            "| 411|213.68368421052634|\n",
            "+----+------------------+\n",
            "only showing top 10 rows\n",
            "\n"
          ],
          "name": "stdout"
        }
      ]
    },
    {
      "cell_type": "markdown",
      "metadata": {
        "id": "Z318GxwtU1yd"
      },
      "source": [
        "## 6. Media anual por zonas del precio de venta y metros cuadrados."
      ]
    },
    {
      "cell_type": "markdown",
      "metadata": {
        "id": "zweRyqvg80yH"
      },
      "source": [
        "En este caso he seleccionado el precio medio y la superficie media de cada casa para cada zona y cada año. Es decir, habrá un registro de cada zona en el que se recogeran estos dos datos en cada uno de los años en los que haya habido casas en el mercado. \n",
        "\n",
        "Ejemplo: Para la zona A, ha habido x años con casas en venta. Recogemos tanto el precio medio como superficie media del conjunto de estas casas en cada año."
      ]
    },
    {
      "cell_type": "code",
      "metadata": {
        "colab": {
          "base_uri": "https://localhost:8080/"
        },
        "id": "O3SjFbER9ub9",
        "outputId": "34ccd40e-6959-4fd2-d257-7fdc68b7a15a"
      },
      "source": [
        "sqlContext.sql(\"\"\"\n",
        "select Yr_Sold as Year, MS_Zoning as Zona , avg(SalePrice) AS PrecioMedio, avg(Lot_Area) as TamanoMedio\n",
        "from final\n",
        "where MS_Zoning = 'RH' or MS_Zoning = 'RL' or MS_Zoning = 'RM'\n",
        "group by Zona, Year\n",
        "\"\"\").show()"
      ],
      "execution_count": null,
      "outputs": [
        {
          "output_type": "stream",
          "text": [
            "+----+----+------------------+------------------+\n",
            "|Year|Zona|       PrecioMedio|       TamanoMedio|\n",
            "+----+----+------------------+------------------+\n",
            "|2007|  RM|128947.62105263158| 6732.273684210526|\n",
            "|2010|  RL|  184978.418972332|10886.185770750988|\n",
            "|2009|  RL|190455.55086372362|10787.424184261037|\n",
            "|2008|  RH|150333.33333333334| 8246.666666666666|\n",
            "|2009|  RH|          116206.8|            6965.8|\n",
            "|2007|  RL|193399.98014440434|11406.283393501804|\n",
            "|2006|  RL|193654.14845360824|11224.771134020619|\n",
            "|2010|  RH|          126280.0|            8105.6|\n",
            "|2008|  RM| 133336.1219512195| 6713.121951219512|\n",
            "|2006|  RH|140316.66666666666|            7099.5|\n",
            "|2010|  RM|119681.70689655172| 6308.775862068966|\n",
            "|2007|  RH|          147250.0|           7010.75|\n",
            "|2008|  RL|189885.58515283844|11276.851528384279|\n",
            "|2006|  RM|127502.63725490196| 6189.401960784314|\n",
            "|2009|  RM|118759.86904761905| 5947.666666666667|\n",
            "+----+----+------------------+------------------+\n",
            "\n"
          ],
          "name": "stdout"
        }
      ]
    },
    {
      "cell_type": "markdown",
      "metadata": {
        "id": "9dPXn5AlvwCJ"
      },
      "source": [
        "## 7. ¿Podrías decirme el total de recaudación de las casas de revistimiento (Mas Vnr Type) de piedra con respecto a las de ladrillo? ¿Hay diferencia significativa?"
      ]
    },
    {
      "cell_type": "markdown",
      "metadata": {
        "id": "yXmL3pc-9ZPz"
      },
      "source": [
        "Recogemos la recaudación total en función del revestimiento. Por una parte, de ladrillo visto y de ladrillo normal, y por otra, de piedra."
      ]
    },
    {
      "cell_type": "code",
      "metadata": {
        "id": "jaEeHfilvwLg",
        "colab": {
          "base_uri": "https://localhost:8080/"
        },
        "outputId": "3196c152-08ba-46f5-a347-7c4d1ae24539"
      },
      "source": [
        "sqlContext.sql(\"\"\"\n",
        "select sum(SalePrice) as Recaudacion_total\n",
        "from final\n",
        "where Mas_Vnr_Type = 'Stone' \n",
        "\"\"\").show()"
      ],
      "execution_count": null,
      "outputs": [
        {
          "output_type": "stream",
          "text": [
            "+-----------------+\n",
            "|Recaudacion_total|\n",
            "+-----------------+\n",
            "|      6.5196277E7|\n",
            "+-----------------+\n",
            "\n"
          ],
          "name": "stdout"
        }
      ]
    },
    {
      "cell_type": "code",
      "metadata": {
        "colab": {
          "base_uri": "https://localhost:8080/"
        },
        "id": "3ryoEMjh9MIB",
        "outputId": "1511c82e-f8da-41f3-f08b-4d865381fcf0"
      },
      "source": [
        "sqlContext.sql(\"\"\"\n",
        "select sum(SalePrice) as Recaudacion_total\n",
        "from final\n",
        "where Mas_Vnr_Type = 'BrkCmn' or Mas_Vnr_Type = 'BrkFace' \n",
        "\"\"\").show()"
      ],
      "execution_count": null,
      "outputs": [
        {
          "output_type": "stream",
          "text": [
            "+-----------------+\n",
            "|Recaudacion_total|\n",
            "+-----------------+\n",
            "|     1.89508236E8|\n",
            "+-----------------+\n",
            "\n"
          ],
          "name": "stdout"
        }
      ]
    },
    {
      "cell_type": "markdown",
      "metadata": {
        "id": "vDIFZri69jFj"
      },
      "source": [
        "Se aprecia que la recaudación con los revestimientos de ladrillo ha sido considerabdlemente superior, más del triple de hecho."
      ]
    },
    {
      "cell_type": "markdown",
      "metadata": {
        "id": "ZSMCiJvzvq9q"
      },
      "source": [
        "## 8. ¿Cuánto son más caras las viviendas con 2 cocinas, con 2 o más plazas de garaje que las que tienen 1 cocina y 1 plaza de garaje? Comparar medias y cuartiles de ambos casos"
      ]
    },
    {
      "cell_type": "markdown",
      "metadata": {
        "id": "XjQGuZBV99rf"
      },
      "source": [
        "Comparamos el precio medio de ambos tipos de vivienda."
      ]
    },
    {
      "cell_type": "code",
      "metadata": {
        "id": "yLSSM5cq9uho"
      },
      "source": [
        "viviendas1 = sqlContext.sql(\"\"\"\n",
        "select avg(SalePrice)\n",
        "from final\n",
        "where Garage_Cars >= 2 and Kitchen_AbvGr = 2 \n",
        "\"\"\")"
      ],
      "execution_count": null,
      "outputs": []
    },
    {
      "cell_type": "code",
      "metadata": {
        "id": "Y20at4Y09uk0",
        "colab": {
          "base_uri": "https://localhost:8080/"
        },
        "outputId": "9e5e7317-e4e9-405b-fbf5-9e822ad70f73"
      },
      "source": [
        "viviendas2 = viviendas1 = sqlContext.sql(\"\"\"\n",
        "select avg(SalePrice)\n",
        "from final\n",
        "where Garage_Cars = 1 and Kitchen_AbvGr = 1\n",
        "\"\"\").show()"
      ],
      "execution_count": null,
      "outputs": [
        {
          "output_type": "stream",
          "text": [
            "+------------------------------+\n",
            "|avg(CAST(SalePrice AS DOUBLE))|\n",
            "+------------------------------+\n",
            "|            127367.04161248375|\n",
            "+------------------------------+\n",
            "\n"
          ],
          "name": "stdout"
        }
      ]
    },
    {
      "cell_type": "code",
      "metadata": {
        "id": "P0oUBeUs9unv",
        "colab": {
          "base_uri": "https://localhost:8080/"
        },
        "outputId": "b94e4eab-82c0-486f-99f4-f4b5bb7e8c60"
      },
      "source": [
        "144995.264 - 127367.042"
      ],
      "execution_count": null,
      "outputs": [
        {
          "output_type": "execute_result",
          "data": {
            "text/plain": [
              "17628.221999999994"
            ]
          },
          "metadata": {
            "tags": []
          },
          "execution_count": 20
        }
      ]
    },
    {
      "cell_type": "markdown",
      "metadata": {
        "id": "UN0Ac0z5-D4-"
      },
      "source": [
        "El precio medio del primer tipo de vivienda, con múltiples plazas de garaje y dos cocinas, es 17,628.222 euros mayor."
      ]
    }
  ]
}